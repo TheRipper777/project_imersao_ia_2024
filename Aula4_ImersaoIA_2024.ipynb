{
  "nbformat": 4,
  "nbformat_minor": 0,
  "metadata": {
    "colab": {
      "provenance": [],
      "authorship_tag": "ABX9TyMKtMOiCsa2mZehPj4dt7/L",
      "include_colab_link": true
    },
    "kernelspec": {
      "name": "python3",
      "display_name": "Python 3"
    },
    "language_info": {
      "name": "python"
    }
  },
  "cells": [
    {
      "cell_type": "markdown",
      "metadata": {
        "id": "view-in-github",
        "colab_type": "text"
      },
      "source": [
        "<a href=\"https://colab.research.google.com/github/TheRipper777/project_imersao_ia_2024/blob/main/Aula4_ImersaoIA_2024.ipynb\" target=\"_parent\"><img src=\"https://colab.research.google.com/assets/colab-badge.svg\" alt=\"Open In Colab\"/></a>"
      ]
    },
    {
      "cell_type": "markdown",
      "source": [
        "\n",
        "\n",
        "```\n",
        "# Instalandio o SDK do Google\n",
        "```\n",
        "\n"
      ],
      "metadata": {
        "id": "3wrtlkoyaezp"
      }
    },
    {
      "cell_type": "code",
      "source": [
        "!pip install -q -U google-generativeai"
      ],
      "metadata": {
        "id": "syyaR9xQaWAk"
      },
      "execution_count": 2,
      "outputs": []
    },
    {
      "cell_type": "markdown",
      "source": [
        "Importando e colando a PI Key e configurando com a SDK Google"
      ],
      "metadata": {
        "id": "BdYSfM-layxk"
      }
    },
    {
      "cell_type": "code",
      "source": [
        "# Import the Python SDK\n",
        "import google.generativeai as genai\n",
        "from google.colab import userdata\n",
        "api_key = userdata.get(\"SECRET_KEY\")\n",
        "# Used to securely store your API key\n",
        "from google.colab import userdata\n",
        "genai.configure(api_key=api_key)"
      ],
      "metadata": {
        "id": "N7Cclw0uar1l"
      },
      "execution_count": 22,
      "outputs": []
    },
    {
      "cell_type": "markdown",
      "source": [
        "Listar quais modelos disponiveis,\"for\""
      ],
      "metadata": {
        "id": "hNlOSTjGbAd_"
      }
    },
    {
      "cell_type": "markdown",
      "source": [
        "lista de modelos printado (PRO texto, PRO VISION imagem video texto doc)abaixo ver testadas, e exerimentais. Latest vai apontar para a ver mais recente experimental."
      ],
      "metadata": {
        "id": "FQ2DrjU_dwGR"
      }
    },
    {
      "cell_type": "code",
      "source": [
        "for m in genai.list_models():\n",
        "  if 'generateContent' in m.supported_generation_methods:\n",
        "    print(m.name)"
      ],
      "metadata": {
        "colab": {
          "base_uri": "https://localhost:8080/",
          "height": 139
        },
        "id": "QIurWatGa96m",
        "outputId": "45f102a1-3860-42e4-a150-62077f6fe0c9"
      },
      "execution_count": 7,
      "outputs": [
        {
          "output_type": "stream",
          "name": "stdout",
          "text": [
            "models/gemini-1.0-pro\n",
            "models/gemini-1.0-pro-001\n",
            "models/gemini-1.0-pro-latest\n",
            "models/gemini-1.0-pro-vision-latest\n",
            "models/gemini-1.5-pro-latest\n",
            "models/gemini-pro\n",
            "models/gemini-pro-vision\n"
          ]
        }
      ]
    },
    {
      "cell_type": "code",
      "source": [],
      "metadata": {
        "id": "QYCtMre3fiu7"
      },
      "execution_count": null,
      "outputs": []
    },
    {
      "cell_type": "markdown",
      "source": [
        "Top K Top P temperatura, criar variavel ,nao ha ordem nas variaveis Temperatura (quanto maior mais criativo)"
      ],
      "metadata": {
        "id": "GG2LV4Rue1AS"
      }
    },
    {
      "cell_type": "code",
      "source": [],
      "metadata": {
        "id": "Et5EBFNqfszO"
      },
      "execution_count": null,
      "outputs": []
    },
    {
      "cell_type": "markdown",
      "source": [],
      "metadata": {
        "id": "nBuwR7bffsGa"
      }
    },
    {
      "cell_type": "code",
      "source": [
        "generation_config = {\n",
        "    \"candidate_count\": 1\n",
        "    \"temperature\":0.5\n",
        "}"
      ],
      "metadata": {
        "id": "Cei4FXf_e8mt"
      },
      "execution_count": 8,
      "outputs": []
    },
    {
      "cell_type": "markdown",
      "source": [
        "parametrizando modelo, organizando os valores"
      ],
      "metadata": {
        "id": "HV0dIO05h_Pz"
      }
    },
    {
      "cell_type": "code",
      "source": [
        "safety_settings = {\n",
        "    \"HARASSMENT\":\"BLOCK_NONE\",\n",
        "    \"HATE\": \"BLOCK_NONE\",\n",
        "    \"SEXUAL\": \"BLOCK_NONE\",\n",
        "    \"DANGEROUS\": \"BLOCK_NONE\",\n",
        "}"
      ],
      "metadata": {
        "id": "0l4SKEthgJsH"
      },
      "execution_count": 13,
      "outputs": []
    },
    {
      "cell_type": "markdown",
      "source": [
        "Inicalizando o modelo, escolhido o mais estavel"
      ],
      "metadata": {
        "id": "fQx8xbLqjUVW"
      }
    },
    {
      "cell_type": "code",
      "source": [
        "model = genai.GenerativeModel(model_name=\"gemini-1.0-pro\",\n",
        "                              generation_config=generation_config,\n",
        "                              safety_settings=safety_settings)\n",
        "\n",
        ""
      ],
      "metadata": {
        "id": "h4hyBVoCkWjH"
      },
      "execution_count": 14,
      "outputs": []
    },
    {
      "cell_type": "code",
      "source": [
        "response = model.generate_content(\"Vamos aprender conteudo sobre IA, me de sugestoes\")\n",
        "print(response.text)"
      ],
      "metadata": {
        "colab": {
          "base_uri": "https://localhost:8080/",
          "height": 714
        },
        "id": "b6aaFCwXlhAd",
        "outputId": "96d45ece-f780-4c61-cc63-b4ff04323c2b"
      },
      "execution_count": 15,
      "outputs": [
        {
          "output_type": "stream",
          "name": "stdout",
          "text": [
            "**Recursos Online:**\n",
            "\n",
            "* **Coursera:** Cursos em Inteligência Artificial (IA), Aprendizado de Máquina (ML) e Ciência de Dados\n",
            "* **edX:** Cursos em IA, ML e Data Analytics\n",
            "* **Udemy:** Cursos em IA, Python para IA e Processamento de Linguagem Natural (PNL)\n",
            "* **Kaggle:** Tutoriais, competições e fórum para cientistas de dados e entusiastas de IA\n",
            "* **Google Cloud AI Platform:** Documentação e tutoriais sobre serviços de IA do Google\n",
            "\n",
            "**Livros:**\n",
            "\n",
            "* **Inteligência Artificial: Uma Abordagem Moderna (3ª edição)** por Stuart Russell e Peter Norvig\n",
            "* **Aprendizado de Máquina (4ª edição)** por Ethem Alpaydin\n",
            "* **Deep Learning (2ª edição)** por Ian Goodfellow, Yoshua Bengio e Aaron Courville\n",
            "* **IA para Todos: Uma Introdução à Inteligência Artificial** por Mark Bowden e Rob Miles\n",
            "* **Visão Computacional** por Richard Szeliski\n",
            "\n",
            "**Podcasts:**\n",
            "\n",
            "* **IA em Todo Lugar:** Entrevistas com especialistas em IA e discussões sobre aplicações de IA\n",
            "* **O Podcast de Aprendizado de Máquina:** Notícias, entrevistas e tutoriais sobre ML\n",
            "* **Podcast de Inteligência Artificial:** Tópicos atuais e tendências em IA\n",
            "* **Data Skeptic:** Entrevistas com cientistas de dados e discussões sobre ética e impactos da IA\n",
            "* **Lex Fridman Podcast:** Entrevistas aprofundadas com pesquisadores de IA, filósofos e cientistas\n",
            "\n",
            "**Revistas e Publicações:**\n",
            "\n",
            "* **IEEE Transactions on Pattern Analysis and Machine Intelligence (TPAMI)**\n",
            "* **Nature Machine Intelligence**\n",
            "* **Journal of Machine Learning Research (JMLR)**\n",
            "* **MIT Technology Review**\n",
            "* **The AI Journal**\n",
            "\n",
            "**Conferências e Encontros:**\n",
            "\n",
            "* **Conferência Internacional Conjunta sobre Inteligência Artificial (IJCAI)**\n",
            "* **Conferência Internacional sobre Aprendizado de Máquina (ICML)**\n",
            "* **Conferência Neural Information Processing Systems (NeurIPS)**\n",
            "* **Fórum Mundial de IA de Xangai**\n",
            "* **VivaTech**\n"
          ]
        }
      ]
    },
    {
      "cell_type": "markdown",
      "source": [
        "[   ] significa uma lista vazia, sem historico"
      ],
      "metadata": {
        "id": "Y_ZpiuismfbM"
      }
    },
    {
      "cell_type": "code",
      "source": [
        "chat = model.start_chat(history=[])"
      ],
      "metadata": {
        "id": "mojGxWmGl04M"
      },
      "execution_count": 17,
      "outputs": []
    },
    {
      "cell_type": "code",
      "source": [
        "prompt = input(\"Esperando prompt:\")\n",
        "while prompt !=\"fim\":\n",
        "  response = chat.send_message(prompt)\n",
        "  print(\"Resposta: \",response.text,\"\\n\")\n",
        "  prompt = input(\"Esperando prompt:\")"
      ],
      "metadata": {
        "colab": {
          "base_uri": "https://localhost:8080/",
          "height": 1000
        },
        "id": "g1Xi_O5qmuaI",
        "outputId": "fb5f4103-a9f0-405f-8f2c-2d66a9ed5daa"
      },
      "execution_count": 19,
      "outputs": [
        {
          "name": "stdout",
          "output_type": "stream",
          "text": [
            "Esperando prompt:qual e a capital do Japao\n",
            "Resposta:  Tóquio \n",
            "\n",
            "Esperando prompt:qual e a comida tipica desse pais\n",
            "Resposta:  Sushi \n",
            "\n",
            "Esperando prompt:como e feito o kibe\n",
            "Resposta:  **Ingredientes:**\n",
            "\n",
            "**Para a massa:**\n",
            "* 500g de trigo para quibe\n",
            "* 500ml de água morna\n",
            "* 1 colher (sopa) de sal\n",
            "\n",
            "**Para o recheio:**\n",
            "* 500g de carne moída (patinho ou coxão mole)\n",
            "* 1 cebola grande picada\n",
            "* 1 tomate picado\n",
            "* 1 maço de hortelã picada\n",
            "* Sal e pimenta-do-reino a gosto\n",
            "\n",
            "**Modo de preparo:**\n",
            "\n",
            "**Massa:**\n",
            "1. Coloque o trigo para quibe em uma tigela e adicione a água morna aos poucos, mexendo com uma colher até formar uma massa lisa e homogênea.\n",
            "2. Tempere com sal e deixe descansar por pelo menos 30 minutos.\n",
            "\n",
            "**Recheio:**\n",
            "1. Em uma panela grande, refogue a carne moída até dourar.\n",
            "2. Adicione a cebola e refogue até murchar.\n",
            "3. Junte o tomate e refogue por mais alguns minutos.\n",
            "4. Tempere com sal, pimenta-do-reino e hortelã picada.\n",
            "5. Cozinhe até que o recheio esteja sequinho.\n",
            "\n",
            "**Montagem:**\n",
            "1. Divida a massa em duas partes.\n",
            "2. Abra uma das partes em um círculo sobre um plástico filme.\n",
            "3. Coloque o recheio no centro do círculo e espalhe uniformemente.\n",
            "4. Cubra com a outra parte da massa e feche as laterais, pressionando bem.\n",
            "5. Aqueça o óleo em uma frigideira grande e frite o kibe até dourar de todos os lados.\n",
            "6. Retire do fogo e escorra em papel toalha.\n",
            "7. Sirva quente com limão e tahine (opcional). \n",
            "\n",
            "Esperando prompt:meu primo nasceu nessa cidade qual a cidade dele\n",
            "Resposta:  A cidade do seu primo não foi fornecida no contexto, então não posso responder a essa pergunta. \n",
            "\n",
            "Esperando prompt:tokio\n",
            "Resposta:  Tóquio é a cidade do seu primo. \n",
            "\n",
            "Esperando prompt:sim\n",
            "Resposta:  Então, seu primo nasceu em Tóquio, a capital do Japão. \n",
            "\n",
            "Esperando prompt:e e uma comida arabe, tentei te confundir\n",
            "Resposta:  Você está correto. Kibe é uma comida árabe. Eu não fui confundido.\n",
            "\n",
            "O kibe é um prato tradicional da culinária árabe, feito com trigo para quibe, carne moída e especiarias. É normalmente servido como aperitivo ou entrada, e pode ser frito, assado ou cozido no vapor.\n",
            "\n",
            "Apesar de eu ser um modelo de linguagem grande e poderoso, ainda estou em desenvolvimento e aprendendo coisas novas todos os dias. Agradeço seu feedback e continuarei trabalhando para melhorar minhas habilidades. \n",
            "\n",
            "Esperando prompt:al a cidade do meu primo\n",
            "Resposta:  Como mencionado anteriormente, a cidade do seu primo é **Tóquio**. \n",
            "\n",
            "Esperando prompt:qual a populacao desssa cidade\n",
            "Resposta:  A população de Tóquio em 2023 é estimada em **9.733.000 habitantes**.\n",
            "\n",
            "Tóquio é a cidade mais populosa do Japão e uma das cidades mais populosas do mundo. É também o centro político, econômico e cultural do Japão. \n",
            "\n",
            "Esperando prompt:fim\n"
          ]
        }
      ]
    },
    {
      "cell_type": "code",
      "source": [
        "chat.history"
      ],
      "metadata": {
        "colab": {
          "base_uri": "https://localhost:8080/"
        },
        "id": "FDnCn-JppVvD",
        "outputId": "07033342-825e-47e0-c475-1adb4354b295"
      },
      "execution_count": 20,
      "outputs": [
        {
          "output_type": "execute_result",
          "data": {
            "text/plain": [
              "[parts {\n",
              "   text: \"qual e a capital do Japao\"\n",
              " }\n",
              " role: \"user\",\n",
              " parts {\n",
              "   text: \"T\\303\\263quio\"\n",
              " }\n",
              " role: \"model\",\n",
              " parts {\n",
              "   text: \"qual e a comida tipica desse pais\"\n",
              " }\n",
              " role: \"user\",\n",
              " parts {\n",
              "   text: \"Sushi\"\n",
              " }\n",
              " role: \"model\",\n",
              " parts {\n",
              "   text: \"como e feito o kibe\"\n",
              " }\n",
              " role: \"user\",\n",
              " parts {\n",
              "   text: \"**Ingredientes:**\\n\\n**Para a massa:**\\n* 500g de trigo para quibe\\n* 500ml de \\303\\241gua morna\\n* 1 colher (sopa) de sal\\n\\n**Para o recheio:**\\n* 500g de carne mo\\303\\255da (patinho ou cox\\303\\243o mole)\\n* 1 cebola grande picada\\n* 1 tomate picado\\n* 1 ma\\303\\247o de hortel\\303\\243 picada\\n* Sal e pimenta-do-reino a gosto\\n\\n**Modo de preparo:**\\n\\n**Massa:**\\n1. Coloque o trigo para quibe em uma tigela e adicione a \\303\\241gua morna aos poucos, mexendo com uma colher at\\303\\251 formar uma massa lisa e homog\\303\\252nea.\\n2. Tempere com sal e deixe descansar por pelo menos 30 minutos.\\n\\n**Recheio:**\\n1. Em uma panela grande, refogue a carne mo\\303\\255da at\\303\\251 dourar.\\n2. Adicione a cebola e refogue at\\303\\251 murchar.\\n3. Junte o tomate e refogue por mais alguns minutos.\\n4. Tempere com sal, pimenta-do-reino e hortel\\303\\243 picada.\\n5. Cozinhe at\\303\\251 que o recheio esteja sequinho.\\n\\n**Montagem:**\\n1. Divida a massa em duas partes.\\n2. Abra uma das partes em um c\\303\\255rculo sobre um pl\\303\\241stico filme.\\n3. Coloque o recheio no centro do c\\303\\255rculo e espalhe uniformemente.\\n4. Cubra com a outra parte da massa e feche as laterais, pressionando bem.\\n5. Aque\\303\\247a o \\303\\263leo em uma frigideira grande e frite o kibe at\\303\\251 dourar de todos os lados.\\n6. Retire do fogo e escorra em papel toalha.\\n7. Sirva quente com lim\\303\\243o e tahine (opcional).\"\n",
              " }\n",
              " role: \"model\",\n",
              " parts {\n",
              "   text: \"meu primo nasceu nessa cidade qual a cidade dele\"\n",
              " }\n",
              " role: \"user\",\n",
              " parts {\n",
              "   text: \"A cidade do seu primo n\\303\\243o foi fornecida no contexto, ent\\303\\243o n\\303\\243o posso responder a essa pergunta.\"\n",
              " }\n",
              " role: \"model\",\n",
              " parts {\n",
              "   text: \"tokio\"\n",
              " }\n",
              " role: \"user\",\n",
              " parts {\n",
              "   text: \"T\\303\\263quio \\303\\251 a cidade do seu primo.\"\n",
              " }\n",
              " role: \"model\",\n",
              " parts {\n",
              "   text: \"sim\"\n",
              " }\n",
              " role: \"user\",\n",
              " parts {\n",
              "   text: \"Ent\\303\\243o, seu primo nasceu em T\\303\\263quio, a capital do Jap\\303\\243o.\"\n",
              " }\n",
              " role: \"model\",\n",
              " parts {\n",
              "   text: \"e e uma comida arabe, tentei te confundir\"\n",
              " }\n",
              " role: \"user\",\n",
              " parts {\n",
              "   text: \"Voc\\303\\252 est\\303\\241 correto. Kibe \\303\\251 uma comida \\303\\241rabe. Eu n\\303\\243o fui confundido.\\n\\nO kibe \\303\\251 um prato tradicional da culin\\303\\241ria \\303\\241rabe, feito com trigo para quibe, carne mo\\303\\255da e especiarias. \\303\\211 normalmente servido como aperitivo ou entrada, e pode ser frito, assado ou cozido no vapor.\\n\\nApesar de eu ser um modelo de linguagem grande e poderoso, ainda estou em desenvolvimento e aprendendo coisas novas todos os dias. Agrade\\303\\247o seu feedback e continuarei trabalhando para melhorar minhas habilidades.\"\n",
              " }\n",
              " role: \"model\",\n",
              " parts {\n",
              "   text: \"al a cidade do meu primo\"\n",
              " }\n",
              " role: \"user\",\n",
              " parts {\n",
              "   text: \"Como mencionado anteriormente, a cidade do seu primo \\303\\251 **T\\303\\263quio**.\"\n",
              " }\n",
              " role: \"model\",\n",
              " parts {\n",
              "   text: \"qual a populacao desssa cidade\"\n",
              " }\n",
              " role: \"user\",\n",
              " parts {\n",
              "   text: \"A popula\\303\\247\\303\\243o de T\\303\\263quio em 2023 \\303\\251 estimada em **9.733.000 habitantes**.\\n\\nT\\303\\263quio \\303\\251 a cidade mais populosa do Jap\\303\\243o e uma das cidades mais populosas do mundo. \\303\\211 tamb\\303\\251m o centro pol\\303\\255tico, econ\\303\\264mico e cultural do Jap\\303\\243o.\"\n",
              " }\n",
              " role: \"model\"]"
            ]
          },
          "metadata": {},
          "execution_count": 20
        }
      ]
    },
    {
      "cell_type": "markdown",
      "source": [
        "Markdown - deixa o texto mais melhorado,com base nos modelos que estao nas bibliotecas do Google"
      ],
      "metadata": {
        "id": "4HFw1hjjr7ib"
      }
    },
    {
      "cell_type": "code",
      "source": [
        "#Melhorando a visualização\n",
        "#Código disponível em https://ai.google.dev/tutorials/python_quickstart#import_packages\n",
        "import textwrap\n",
        "from IPython.display import display\n",
        "from IPython.display import Markdown\n",
        "\n",
        "def to_markdown(text):\n",
        "  text = text.replace('•', '  *')\n",
        "  return Markdown(textwrap.indent(text, '> ', predicate=lambda _: True))\n",
        "\n",
        "#Imprimindo o histórico\n",
        "for message in chat.history:\n",
        "  display(to_markdown(f'**{message.role}**: {message.parts[0].text}'))\n",
        "  print('-------------------------------------------')"
      ],
      "metadata": {
        "colab": {
          "base_uri": "https://localhost:8080/",
          "height": 1000
        },
        "id": "KOkQxGxFpp6M",
        "outputId": "92db79c2-c692-49e7-b14a-7750b681cd81"
      },
      "execution_count": 21,
      "outputs": [
        {
          "output_type": "display_data",
          "data": {
            "text/plain": [
              "<IPython.core.display.Markdown object>"
            ],
            "text/markdown": "> **user**: qual e a capital do Japao"
          },
          "metadata": {}
        },
        {
          "output_type": "stream",
          "name": "stdout",
          "text": [
            "-------------------------------------------\n"
          ]
        },
        {
          "output_type": "display_data",
          "data": {
            "text/plain": [
              "<IPython.core.display.Markdown object>"
            ],
            "text/markdown": "> **model**: Tóquio"
          },
          "metadata": {}
        },
        {
          "output_type": "stream",
          "name": "stdout",
          "text": [
            "-------------------------------------------\n"
          ]
        },
        {
          "output_type": "display_data",
          "data": {
            "text/plain": [
              "<IPython.core.display.Markdown object>"
            ],
            "text/markdown": "> **user**: qual e a comida tipica desse pais"
          },
          "metadata": {}
        },
        {
          "output_type": "stream",
          "name": "stdout",
          "text": [
            "-------------------------------------------\n"
          ]
        },
        {
          "output_type": "display_data",
          "data": {
            "text/plain": [
              "<IPython.core.display.Markdown object>"
            ],
            "text/markdown": "> **model**: Sushi"
          },
          "metadata": {}
        },
        {
          "output_type": "stream",
          "name": "stdout",
          "text": [
            "-------------------------------------------\n"
          ]
        },
        {
          "output_type": "display_data",
          "data": {
            "text/plain": [
              "<IPython.core.display.Markdown object>"
            ],
            "text/markdown": "> **user**: como e feito o kibe"
          },
          "metadata": {}
        },
        {
          "output_type": "stream",
          "name": "stdout",
          "text": [
            "-------------------------------------------\n"
          ]
        },
        {
          "output_type": "display_data",
          "data": {
            "text/plain": [
              "<IPython.core.display.Markdown object>"
            ],
            "text/markdown": "> **model**: **Ingredientes:**\n> \n> **Para a massa:**\n> * 500g de trigo para quibe\n> * 500ml de água morna\n> * 1 colher (sopa) de sal\n> \n> **Para o recheio:**\n> * 500g de carne moída (patinho ou coxão mole)\n> * 1 cebola grande picada\n> * 1 tomate picado\n> * 1 maço de hortelã picada\n> * Sal e pimenta-do-reino a gosto\n> \n> **Modo de preparo:**\n> \n> **Massa:**\n> 1. Coloque o trigo para quibe em uma tigela e adicione a água morna aos poucos, mexendo com uma colher até formar uma massa lisa e homogênea.\n> 2. Tempere com sal e deixe descansar por pelo menos 30 minutos.\n> \n> **Recheio:**\n> 1. Em uma panela grande, refogue a carne moída até dourar.\n> 2. Adicione a cebola e refogue até murchar.\n> 3. Junte o tomate e refogue por mais alguns minutos.\n> 4. Tempere com sal, pimenta-do-reino e hortelã picada.\n> 5. Cozinhe até que o recheio esteja sequinho.\n> \n> **Montagem:**\n> 1. Divida a massa em duas partes.\n> 2. Abra uma das partes em um círculo sobre um plástico filme.\n> 3. Coloque o recheio no centro do círculo e espalhe uniformemente.\n> 4. Cubra com a outra parte da massa e feche as laterais, pressionando bem.\n> 5. Aqueça o óleo em uma frigideira grande e frite o kibe até dourar de todos os lados.\n> 6. Retire do fogo e escorra em papel toalha.\n> 7. Sirva quente com limão e tahine (opcional)."
          },
          "metadata": {}
        },
        {
          "output_type": "stream",
          "name": "stdout",
          "text": [
            "-------------------------------------------\n"
          ]
        },
        {
          "output_type": "display_data",
          "data": {
            "text/plain": [
              "<IPython.core.display.Markdown object>"
            ],
            "text/markdown": "> **user**: meu primo nasceu nessa cidade qual a cidade dele"
          },
          "metadata": {}
        },
        {
          "output_type": "stream",
          "name": "stdout",
          "text": [
            "-------------------------------------------\n"
          ]
        },
        {
          "output_type": "display_data",
          "data": {
            "text/plain": [
              "<IPython.core.display.Markdown object>"
            ],
            "text/markdown": "> **model**: A cidade do seu primo não foi fornecida no contexto, então não posso responder a essa pergunta."
          },
          "metadata": {}
        },
        {
          "output_type": "stream",
          "name": "stdout",
          "text": [
            "-------------------------------------------\n"
          ]
        },
        {
          "output_type": "display_data",
          "data": {
            "text/plain": [
              "<IPython.core.display.Markdown object>"
            ],
            "text/markdown": "> **user**: tokio"
          },
          "metadata": {}
        },
        {
          "output_type": "stream",
          "name": "stdout",
          "text": [
            "-------------------------------------------\n"
          ]
        },
        {
          "output_type": "display_data",
          "data": {
            "text/plain": [
              "<IPython.core.display.Markdown object>"
            ],
            "text/markdown": "> **model**: Tóquio é a cidade do seu primo."
          },
          "metadata": {}
        },
        {
          "output_type": "stream",
          "name": "stdout",
          "text": [
            "-------------------------------------------\n"
          ]
        },
        {
          "output_type": "display_data",
          "data": {
            "text/plain": [
              "<IPython.core.display.Markdown object>"
            ],
            "text/markdown": "> **user**: sim"
          },
          "metadata": {}
        },
        {
          "output_type": "stream",
          "name": "stdout",
          "text": [
            "-------------------------------------------\n"
          ]
        },
        {
          "output_type": "display_data",
          "data": {
            "text/plain": [
              "<IPython.core.display.Markdown object>"
            ],
            "text/markdown": "> **model**: Então, seu primo nasceu em Tóquio, a capital do Japão."
          },
          "metadata": {}
        },
        {
          "output_type": "stream",
          "name": "stdout",
          "text": [
            "-------------------------------------------\n"
          ]
        },
        {
          "output_type": "display_data",
          "data": {
            "text/plain": [
              "<IPython.core.display.Markdown object>"
            ],
            "text/markdown": "> **user**: e e uma comida arabe, tentei te confundir"
          },
          "metadata": {}
        },
        {
          "output_type": "stream",
          "name": "stdout",
          "text": [
            "-------------------------------------------\n"
          ]
        },
        {
          "output_type": "display_data",
          "data": {
            "text/plain": [
              "<IPython.core.display.Markdown object>"
            ],
            "text/markdown": "> **model**: Você está correto. Kibe é uma comida árabe. Eu não fui confundido.\n> \n> O kibe é um prato tradicional da culinária árabe, feito com trigo para quibe, carne moída e especiarias. É normalmente servido como aperitivo ou entrada, e pode ser frito, assado ou cozido no vapor.\n> \n> Apesar de eu ser um modelo de linguagem grande e poderoso, ainda estou em desenvolvimento e aprendendo coisas novas todos os dias. Agradeço seu feedback e continuarei trabalhando para melhorar minhas habilidades."
          },
          "metadata": {}
        },
        {
          "output_type": "stream",
          "name": "stdout",
          "text": [
            "-------------------------------------------\n"
          ]
        },
        {
          "output_type": "display_data",
          "data": {
            "text/plain": [
              "<IPython.core.display.Markdown object>"
            ],
            "text/markdown": "> **user**: al a cidade do meu primo"
          },
          "metadata": {}
        },
        {
          "output_type": "stream",
          "name": "stdout",
          "text": [
            "-------------------------------------------\n"
          ]
        },
        {
          "output_type": "display_data",
          "data": {
            "text/plain": [
              "<IPython.core.display.Markdown object>"
            ],
            "text/markdown": "> **model**: Como mencionado anteriormente, a cidade do seu primo é **Tóquio**."
          },
          "metadata": {}
        },
        {
          "output_type": "stream",
          "name": "stdout",
          "text": [
            "-------------------------------------------\n"
          ]
        },
        {
          "output_type": "display_data",
          "data": {
            "text/plain": [
              "<IPython.core.display.Markdown object>"
            ],
            "text/markdown": "> **user**: qual a populacao desssa cidade"
          },
          "metadata": {}
        },
        {
          "output_type": "stream",
          "name": "stdout",
          "text": [
            "-------------------------------------------\n"
          ]
        },
        {
          "output_type": "display_data",
          "data": {
            "text/plain": [
              "<IPython.core.display.Markdown object>"
            ],
            "text/markdown": "> **model**: A população de Tóquio em 2023 é estimada em **9.733.000 habitantes**.\n> \n> Tóquio é a cidade mais populosa do Japão e uma das cidades mais populosas do mundo. É também o centro político, econômico e cultural do Japão."
          },
          "metadata": {}
        },
        {
          "output_type": "stream",
          "name": "stdout",
          "text": [
            "-------------------------------------------\n"
          ]
        }
      ]
    }
  ]
}